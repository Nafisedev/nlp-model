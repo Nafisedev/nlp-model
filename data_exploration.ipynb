{
 "cells": [
  {
   "cell_type": "code",
   "execution_count": null,
   "metadata": {},
   "outputs": [],
   "source": [
    "import pandas as pd"
   ]
  },
  {
   "cell_type": "code",
   "execution_count": null,
   "metadata": {},
   "outputs": [
    {
     "data": {
      "text/plain": [
       "<bound method NDFrame.head of        is_positive          id                      datetime        user  \\\n",
       "0                0  2323266775  Thu Jun 25 00:15:43 PDT 2009       gulti   \n",
       "1                1  2192626220  Tue Jun 16 07:18:56 PDT 2009     lpgrant   \n",
       "2                0  1824060456  Sat May 16 23:54:19 PDT 2009     starlah   \n",
       "3                0  2248516272  Fri Jun 19 20:44:57 PDT 2009  babymakes7   \n",
       "4                1  2050379110  Fri Jun 05 18:33:51 PDT 2009     Gelfand   \n",
       "...            ...         ...                           ...         ...   \n",
       "19995            1  1833850571  Mon May 18 00:40:54 PDT 2009  starsmilee   \n",
       "19996            1  1751988929  Sat May 09 20:46:32 PDT 2009     Lozzy_d   \n",
       "19997            0  2047562916  Fri Jun 05 13:50:23 PDT 2009    gfagan72   \n",
       "19998            1  1563988528  Mon Apr 20 01:12:25 PDT 2009   karenlay_   \n",
       "19999            0  2253975501  Sat Jun 20 09:02:09 PDT 2009    taashaax   \n",
       "\n",
       "                                           message_clean  \n",
       "0                  had dream sneaked out escape into the  \n",
       "1      richmondgl murder train just cracked but you r...  \n",
       "2      sherrymain thanks for hosting your own birthda...  \n",
       "3      angelic rebel umm basically simple math proble...  \n",
       "4      middleclassgirl and there nothing wrong with that  \n",
       "...                                                  ...  \n",
       "19995                                    hii crazy thejb  \n",
       "19996  jtimberlake think have more than enough friend...  \n",
       "19997                             sucks have sick friday  \n",
       "19998     all you can eat seafood and peking duck buffet  \n",
       "19999            mattb think dying good result bad times  \n",
       "\n",
       "[20000 rows x 5 columns]>"
      ]
     },
     "execution_count": 8,
     "metadata": {},
     "output_type": "execute_result"
    }
   ],
   "source": [
    "# Load the dataset\n",
    "df = pd.read_csv('https://raw.githubusercontent.com/Nafisedev/nlp-model/main/data/dataset.csv')\n",
    "df.head"
   ]
  },
  {
   "cell_type": "code",
   "execution_count": null,
   "metadata": {},
   "outputs": [
    {
     "data": {
      "text/plain": [
       "Index(['is_positive', 'id', 'datetime', 'user', 'message_clean'], dtype='object')"
      ]
     },
     "execution_count": 9,
     "metadata": {},
     "output_type": "execute_result"
    }
   ],
   "source": [
    "# Exploratory data Analysis\n",
    "df.columns"
   ]
  },
  {
   "cell_type": "code",
   "execution_count": null,
   "metadata": {},
   "outputs": [
    {
     "data": {
      "text/plain": [
       "is_positive       int64\n",
       "id                int64\n",
       "datetime         object\n",
       "user             object\n",
       "message_clean    object\n",
       "dtype: object"
      ]
     },
     "execution_count": 10,
     "metadata": {},
     "output_type": "execute_result"
    }
   ],
   "source": [
    "df.dtypes"
   ]
  },
  {
   "cell_type": "code",
   "execution_count": null,
   "metadata": {},
   "outputs": [
    {
     "data": {
      "text/plain": [
       "(20000, 5)"
      ]
     },
     "execution_count": 11,
     "metadata": {},
     "output_type": "execute_result"
    }
   ],
   "source": [
    "df.shape"
   ]
  },
  {
   "cell_type": "code",
   "execution_count": null,
   "metadata": {},
   "outputs": [],
   "source": [
    "df['is_positive'].value_counts(normaliz =True).plot.bar()"
   ]
  },
  {
   "cell_type": "code",
   "execution_count": null,
   "metadata": {},
   "outputs": [
    {
     "data": {
      "text/plain": [
       "is_positive      0\n",
       "id               0\n",
       "datetime         0\n",
       "user             0\n",
       "message_clean    1\n",
       "dtype: int64"
      ]
     },
     "execution_count": 12,
     "metadata": {},
     "output_type": "execute_result"
    }
   ],
   "source": [
    "df.isnull().sum()"
   ]
  }
 ],
 "metadata": {
  "kernelspec": {
   "display_name": "Python 3 (ipykernel)",
   "language": "python",
   "name": "python3"
  },
  "language_info": {
   "codemirror_mode": {
    "name": "ipython",
    "version": 3
   },
   "file_extension": ".py",
   "mimetype": "text/x-python",
   "name": "python",
   "nbconvert_exporter": "python",
   "pygments_lexer": "ipython3",
   "version": "3.10.2"
  },
  "orig_nbformat": 4
 },
 "nbformat": 4,
 "nbformat_minor": 2
}
